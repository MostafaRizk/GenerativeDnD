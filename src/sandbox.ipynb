{
 "cells": [
  {
   "cell_type": "code",
   "execution_count": 1,
   "metadata": {},
   "outputs": [],
   "source": [
    "import numpy as np\n",
    "\n",
    "from llm import LLM\n",
    "from numpy import dot\n",
    "from numpy.linalg import norm\n",
    "from transformers import pipeline\n",
    "from scipy.spatial import distance"
   ]
  },
  {
   "cell_type": "code",
   "execution_count": 2,
   "metadata": {},
   "outputs": [
    {
     "name": "stderr",
     "output_type": "stream",
     "text": [
      "The model 'MistralForCausalLM' is not supported for summarization. Supported models are ['BartForConditionalGeneration', 'BigBirdPegasusForConditionalGeneration', 'BlenderbotForConditionalGeneration', 'BlenderbotSmallForConditionalGeneration', 'EncoderDecoderModel', 'FSMTForConditionalGeneration', 'GPTSanJapaneseForConditionalGeneration', 'LEDForConditionalGeneration', 'LongT5ForConditionalGeneration', 'M2M100ForConditionalGeneration', 'MarianMTModel', 'MBartForConditionalGeneration', 'MT5ForConditionalGeneration', 'MvpForConditionalGeneration', 'NllbMoeForConditionalGeneration', 'PegasusForConditionalGeneration', 'PegasusXForConditionalGeneration', 'PLBartForConditionalGeneration', 'ProphetNetForConditionalGeneration', 'SeamlessM4TForTextToText', 'SwitchTransformersForConditionalGeneration', 'T5ForConditionalGeneration', 'UMT5ForConditionalGeneration', 'XLMProphetNetForConditionalGeneration'].\n"
     ]
    }
   ],
   "source": [
    "model = LLM(file=\"mistral_params.json\")"
   ]
  },
  {
   "cell_type": "code",
   "execution_count": 3,
   "metadata": {},
   "outputs": [],
   "source": [
    "stationary_sentences = [\n",
    "    \"Lorde Moofilton is staying\",\n",
    "    \"Lorde Moofilton is walking around the room\",\n",
    "    \"Lorde Moofilton is running around frantically\"]\n",
    "\n",
    "movement_sentences = [\n",
    "    \"Lorde Moofilton is going to a place\",\n",
    "    \"Lorde Moofilton is heading to a place\",\n",
    "    \"Lorde Moofilton is leaving\"\n",
    "]"
   ]
  },
  {
   "cell_type": "code",
   "execution_count": 4,
   "metadata": {},
   "outputs": [],
   "source": [
    "stationary_embeddings = [np.hstack(model.get_utterance_embedding(s)) for s in stationary_sentences]\n",
    "movement_embeddings = [np.hstack(model.get_utterance_embedding(s)) for s in movement_sentences]"
   ]
  },
  {
   "cell_type": "code",
   "execution_count": 8,
   "metadata": {},
   "outputs": [
    {
     "name": "stdout",
     "output_type": "stream",
     "text": [
      "Stationary = 0.14678254191360854\n",
      "Moving = 0.19065805350044238\n",
      "\n"
     ]
    }
   ],
   "source": [
    "utterance = \"Lorde walks around the room looking at the artwork on the walls\"\n",
    "utterance = np.hstack(model.get_utterance_embedding(utterance))\n",
    "\n",
    "stationary = np.average([distance.cosine(utterance, stationary_embeddings[j]) for j in range(len(stationary_sentences))])\n",
    "print(f\"Stationary = {stationary}\")\n",
    "moving = np.average([distance.cosine(utterance, movement_embeddings[j]) for j in range(len(movement_sentences))])\n",
    "print(f\"Moving = {moving}\")\n",
    "print()"
   ]
  },
  {
   "cell_type": "code",
   "execution_count": null,
   "metadata": {},
   "outputs": [],
   "source": []
  }
 ],
 "metadata": {
  "kernelspec": {
   "display_name": "Python 3 (ipykernel)",
   "language": "python",
   "name": "python3"
  },
  "language_info": {
   "codemirror_mode": {
    "name": "ipython",
    "version": 3
   },
   "file_extension": ".py",
   "mimetype": "text/x-python",
   "name": "python",
   "nbconvert_exporter": "python",
   "pygments_lexer": "ipython3",
   "version": "3.10.9"
  }
 },
 "nbformat": 4,
 "nbformat_minor": 4
}
