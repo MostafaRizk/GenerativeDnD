{
 "cells": [
  {
   "cell_type": "code",
   "execution_count": 1,
   "metadata": {},
   "outputs": [],
   "source": [
    "import numpy as np\n",
    "\n",
    "from llm import LLM\n",
    "from numpy import dot\n",
    "from numpy.linalg import norm\n",
    "from transformers import pipeline\n",
    "from scipy.spatial import distance"
   ]
  },
  {
   "cell_type": "code",
   "execution_count": 27,
   "metadata": {},
   "outputs": [],
   "source": [
    "def cosine_similarity(a,b):\n",
    "    return dot(a,b) / (norm(a)*norm(b))"
   ]
  },
  {
   "cell_type": "code",
   "execution_count": 13,
   "metadata": {},
   "outputs": [],
   "source": [
    "model = LLM(file=\"mistral_params.json\")\n",
    "\n",
    "stationary_sentence = np.hstack(model.embedding_pipe(\"Person is staying in their current location\", tokenize_kwargs ={'padding': 'max_length', 'max_length': 100})[0])\n",
    "movement_sentence = np.hstack(model.embedding_pipe(\"Person is going to a new location\", tokenize_kwargs ={'padding': 'max_length', 'max_length': 100})[0])"
   ]
  },
  {
   "cell_type": "code",
   "execution_count": 14,
   "metadata": {},
   "outputs": [],
   "source": [
    "example_utterances = [\n",
    "                    \"*Myrna exits the kitchen and heads over to the lobby to see if Bazza needs any help*\",\n",
    "                    \"*Lorde pauses contemplatively and looks at the painting\",\n",
    "                    \"*Lorde walks over to the bar and rests his arm on the counter*\"]"
   ]
  },
  {
   "cell_type": "code",
   "execution_count": 15,
   "metadata": {},
   "outputs": [
    {
     "name": "stdout",
     "output_type": "stream",
     "text": [
      "*Myrna exits the kitchen and heads over to the lobby to see if Bazza needs any help*\n",
      "Staying still = 0.4324690653969333\n",
      "Moving = 0.4722639344378031\n",
      "\n",
      "*Lorde pauses contemplatively and looks at the painting\n",
      "Staying still = 0.2516566937046151\n",
      "Moving = 0.3045003998424919\n",
      "\n",
      "*Lorde walks over to the bar and rests his arm on the counter*\n",
      "Staying still = 0.3447181433180986\n",
      "Moving = 0.4150802767584153\n",
      "\n"
     ]
    }
   ],
   "source": [
    "for utterance in example_utterances:\n",
    "    print(utterance)\n",
    "    utterance = np.hstack(model.embedding_pipe(utterance, tokenize_kwargs ={'padding': 'max_length', 'max_length': 100})[0])\n",
    "    print(f\"Staying still = {distance.cosine(utterance, stationary_sentence)}\")\n",
    "    print(f\"Moving = {distance.cosine(utterance, movement_sentence)}\")\n",
    "    print()"
   ]
  },
  {
   "cell_type": "code",
   "execution_count": 20,
   "metadata": {},
   "outputs": [
    {
     "data": {
      "text/plain": [
       "True"
      ]
     },
     "execution_count": 20,
     "metadata": {},
     "output_type": "execute_result"
    }
   ],
   "source": [
    "\"the lobby\" in example_utterances[0]"
   ]
  },
  {
   "cell_type": "code",
   "execution_count": null,
   "metadata": {},
   "outputs": [],
   "source": []
  }
 ],
 "metadata": {
  "kernelspec": {
   "display_name": "Python 3 (ipykernel)",
   "language": "python",
   "name": "python3"
  },
  "language_info": {
   "codemirror_mode": {
    "name": "ipython",
    "version": 3
   },
   "file_extension": ".py",
   "mimetype": "text/x-python",
   "name": "python",
   "nbconvert_exporter": "python",
   "pygments_lexer": "ipython3",
   "version": "3.10.9"
  }
 },
 "nbformat": 4,
 "nbformat_minor": 4
}
